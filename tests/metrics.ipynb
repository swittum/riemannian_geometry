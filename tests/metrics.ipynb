{
 "cells": [
  {
   "cell_type": "code",
   "execution_count": 2,
   "metadata": {},
   "outputs": [],
   "source": [
    "import os\n",
    "import sys\n",
    "module_path = os.path.abspath(os.path.join('..'))\n",
    "sys.path.append(module_path)\n",
    "from riemannian_manifold import RiemannianManifold"
   ]
  },
  {
   "cell_type": "code",
   "execution_count": 3,
   "metadata": {},
   "outputs": [],
   "source": [
    "import sympy as sp\n",
    "import numpy as np\n",
    "import matplotlib.pyplot as plt"
   ]
  },
  {
   "cell_type": "markdown",
   "metadata": {},
   "source": [
    "## Testing code for $S^2$"
   ]
  },
  {
   "cell_type": "code",
   "execution_count": 4,
   "metadata": {},
   "outputs": [],
   "source": [
    "r, theta, phi = sp.symbols('r theta phi')\n",
    "coords = [theta, phi]\n",
    "g = sp.diag(r**2, r**2*sp.sin(theta)**2)\n",
    "\n",
    "S2 = RiemannianManifold(coords, g)\n",
    "RiemannTensor = S2.get_riemann_tensor()\n",
    "RicciTensor = S2.get_ricci_tensor()\n",
    "RicciScalar = S2.get_ricci_scalar()\n",
    "EinsteinTensor = S2.get_einstein_tensor()\n",
    "geodesic_eqs = S2.get_geodesic_eqs()\n",
    "\n",
    "ChristoffelSymbols = S2.get_christoffels()"
   ]
  },
  {
   "cell_type": "markdown",
   "metadata": {},
   "source": [
    "## Testing code for Schwarzschild metric"
   ]
  },
  {
   "cell_type": "code",
   "execution_count": 14,
   "metadata": {},
   "outputs": [
    {
     "data": {
      "text/latex": [
       "$\\displaystyle \\left[\\begin{matrix}\\frac{G M \\left(- 2 G M + r\\right)}{r^{3}} & 0 & 0 & 0\\\\0 & \\frac{G M}{r \\left(2 G M - r\\right)} & 0 & 0\\\\0 & 0 & 2 G M - r & 0\\\\0 & 0 & 0 & \\left(2 G M - r\\right) \\sin^{2}{\\left(\\theta \\right)}\\end{matrix}\\right]$"
      ],
      "text/plain": [
       "Matrix([\n",
       "[G*M*(-2*G*M + r)/r**3,                   0,         0,                         0],\n",
       "[                    0, G*M/(r*(2*G*M - r)),         0,                         0],\n",
       "[                    0,                   0, 2*G*M - r,                         0],\n",
       "[                    0,                   0,         0, (2*G*M - r)*sin(theta)**2]])"
      ]
     },
     "execution_count": 14,
     "metadata": {},
     "output_type": "execute_result"
    }
   ],
   "source": [
    "t, r, theta, phi = sp.symbols('t r theta phi')\n",
    "G, M = sp.symbols('G M')\n",
    "coords = [t, r, theta, phi]\n",
    "g = sp.diag(-(1-2*G*M/r), 1/(1-2*G*M/r), r**2, r**2*sp.sin(theta)**2)\n",
    "\n",
    "Schwarzschild = RiemannianManifold(coords, g)\n",
    "RiemannTensor = Schwarzschild.get_riemann_tensor()\n",
    "RicciTensor = Schwarzschild.get_ricci_tensor()\n",
    "RicciScalar = Schwarzschild.get_ricci_scalar()\n",
    "EinsteinTensor = Schwarzschild.get_einstein_tensor()\n",
    "geodesic_eqs = Schwarzschild.get_geodesic_eqs()\n",
    "ChristoffelSymbols = Schwarzschild.get_christoffels()\n",
    "\n",
    "ChristoffelSymbols[r]"
   ]
  },
  {
   "cell_type": "markdown",
   "metadata": {},
   "source": [
    "## Testing code for spacetime torus"
   ]
  },
  {
   "cell_type": "code",
   "execution_count": 35,
   "metadata": {},
   "outputs": [],
   "source": [
    "theta, phi = sp.symbols('theta phi')\n",
    "coords = [theta, phi]\n",
    "g = sp.Matrix([[sp.sin(theta), sp.cos(theta)],\n",
    "              [sp.cos(theta), -sp.sin(theta)]])\n",
    "\n",
    "T1 = RiemannianManifold(coords, g)\n",
    "ChristoffelSymbols = T1.get_christoffels()"
   ]
  },
  {
   "cell_type": "markdown",
   "metadata": {},
   "source": [
    "## Testing code for cylinder"
   ]
  },
  {
   "cell_type": "code",
   "execution_count": 12,
   "metadata": {},
   "outputs": [
    {
     "data": {
      "text/latex": [
       "$\\displaystyle \\left[\\begin{matrix}0 & 0\\\\0 & 0\\end{matrix}\\right]$"
      ],
      "text/plain": [
       "Matrix([\n",
       "[0, 0],\n",
       "[0, 0]])"
      ]
     },
     "execution_count": 12,
     "metadata": {},
     "output_type": "execute_result"
    }
   ],
   "source": [
    "phi, z = sp.symbols('r phi')\n",
    "r = sp.symbols('r', positive=True)\n",
    "coords = [phi, z]\n",
    "g = sp.Matrix([[r**2, 0],\n",
    "               [0, 1]])\n",
    "Cylinder = RiemannianManifold(coords, g)\n",
    "RiemannTensor = Cylinder.get_riemann_tensor()\n",
    "RicciTensor = Cylinder.get_ricci_tensor()\n",
    "RicciScalar = Cylinder.get_ricci_scalar()\n",
    "EinsteinTensor = Cylinder.get_einstein_tensor()\n",
    "\n",
    "RiemannTensor[phi][z]\n",
    "RicciTensor"
   ]
  },
  {
   "cell_type": "markdown",
   "metadata": {},
   "source": [
    "## Minkwoski Space"
   ]
  },
  {
   "cell_type": "code",
   "execution_count": 38,
   "metadata": {},
   "outputs": [],
   "source": [
    "x, y = sp.symbols('x y')\n",
    "g = sp.Matrix([[1, 0], [0, -1]])\n",
    "coords = [x, y]\n",
    "\n",
    "Minkowski = RiemannianManifold(coords, g)\n",
    "RiemannTensor = Minkowski.get_riemann_tensor()  \n",
    "RicciTensor = Minkowski.get_ricci_tensor()\n",
    "RicciScalar = Minkowski.get_ricci_scalar()\n",
    "EinsteinTensor = Minkowski.get_einstein_tensor()"
   ]
  },
  {
   "cell_type": "markdown",
   "metadata": {},
   "source": [
    "## Poincaré Half-Plane"
   ]
  },
  {
   "cell_type": "code",
   "execution_count": 27,
   "metadata": {},
   "outputs": [],
   "source": [
    "x, y = sp.symbols('x y')\n",
    "g = sp.Matrix([[1/y**2, 0], [0, 1/y**2]])\n",
    "coords = [x, y]\n",
    "\n",
    "T2 = RiemannianManifold(coords, g)\n",
    "Christoffels = T2.get_christoffels()\n",
    "RiemannTensor = T2.get_riemann_tensor()\n",
    "RicciTensor = T2.get_ricci_tensor()\n",
    "RicciScalar = T2.get_ricci_scalar()\n",
    "geodesics = T2.get_geodesic_eqs()"
   ]
  },
  {
   "cell_type": "markdown",
   "metadata": {},
   "source": [
    "## FLRW Metric"
   ]
  },
  {
   "cell_type": "code",
   "execution_count": 6,
   "metadata": {},
   "outputs": [],
   "source": [
    "t, r, theta, phi = sp.symbols('t r theta phi')\n",
    "k = sp.symbols('k')\n",
    "a = sp.Function('a')(t)\n",
    "coords = [t, r, theta, phi]\n",
    "\n",
    "# g = sp.diag(-1, a**2, a**2, a**2)\n",
    "g = sp.diag(-1, a**2/(1-k*r**2), a**2*r**2, a**2*r**2*sp.sin(theta)**2)\n",
    "\n",
    "FLRW = RiemannianManifold(coords, g)\n",
    "Christoffels = FLRW.get_christoffels()\n",
    "RiemannTensor = FLRW.get_riemann_tensor()\n",
    "RicciTensor = FLRW.get_ricci_tensor()\n",
    "RicciScalar = FLRW.get_ricci_scalar()\n",
    "Geodesic_Eqs = FLRW.get_geodesic_eqs()\n",
    "EinsteinTensor = FLRW.get_einstein_tensor()\n",
    "\n",
    "RicciScalar = RicciScalar.simplify()"
   ]
  },
  {
   "cell_type": "markdown",
   "metadata": {},
   "source": [
    "## Cylinder"
   ]
  },
  {
   "cell_type": "code",
   "execution_count": 8,
   "metadata": {},
   "outputs": [
    {
     "data": {
      "text/plain": [
       "[<mpl_toolkits.mplot3d.art3d.Line3D at 0x16bea4e20>]"
      ]
     },
     "execution_count": 8,
     "metadata": {},
     "output_type": "execute_result"
    }
   ],
   "source": [
    "%matplotlib inline\n",
    "r, phi, z = sp.symbols('r theta phi')\n",
    "coords = [phi, z]\n",
    "g = sp.diag(r**2, 1)\n",
    "\n",
    "Cylinder = RiemannianManifold(coords, g)\n",
    "\n",
    "start = [0, 0]\n",
    "end = [sp.pi, 4]\n",
    "\n",
    "geodesic, norm = Cylinder.get_geodesic(start, end, params={r: 1})\n",
    "\n",
    "def get_cartesian(r, phi, z):\n",
    "    x = r*sp.cos(phi)\n",
    "    y = r*sp.sin(phi)\n",
    "    z = z\n",
    "    return x, y, z\n",
    "\n",
    "# Plot\n",
    "r = 1\n",
    "theta = np.arange(0, 2*np.pi, 0.01)\n",
    "z = np.arange(0, 5, 0.01)\n",
    "theta, z = np.meshgrid(theta, z)\n",
    "\n",
    "x = r*np.cos(theta)\n",
    "y = r*np.sin(theta)\n",
    "z = z\n",
    "\n",
    "fig = plt.figure()\n",
    "ax = fig.add_subplot(111, projection='3d')\n",
    "ax.plot_surface(x, y, z, alpha=0.5)\n",
    "\n",
    "phi, z = geodesic[:, 0], geodesic[:, 1]\n",
    "x, y, z = r*np.cos(phi), r*np.sin(phi), z\n",
    "\n",
    "ax.plot(x, y, z, label='geodesic', color='r', linewidth=2)\n",
    "\n"
   ]
  }
 ],
 "metadata": {
  "kernelspec": {
   "display_name": ".venv",
   "language": "python",
   "name": "python3"
  },
  "language_info": {
   "codemirror_mode": {
    "name": "ipython",
    "version": 3
   },
   "file_extension": ".py",
   "mimetype": "text/x-python",
   "name": "python",
   "nbconvert_exporter": "python",
   "pygments_lexer": "ipython3",
   "version": "3.9.13"
  }
 },
 "nbformat": 4,
 "nbformat_minor": 2
}
